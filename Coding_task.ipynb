{
  "nbformat": 4,
  "nbformat_minor": 0,
  "metadata": {
    "colab": {
      "name": "Coding_task.ipynb",
      "provenance": [],
      "collapsed_sections": []
    },
    "kernelspec": {
      "name": "python3",
      "display_name": "Python 3"
    },
    "accelerator": "GPU"
  },
  "cells": [
    {
      "cell_type": "code",
      "metadata": {
        "id": "pW2G64Q8ypsU",
        "colab_type": "code",
        "colab": {}
      },
      "source": [
        "import torch\n",
        "import torchvision\n",
        "import pathlib\n",
        "import imageio\n",
        "import os\n",
        "import cv2\n",
        "import numpy as np\n",
        "import pandas as pd\n",
        "import torch.nn.functional as F\n",
        "import matplotlib.pyplot as plt\n",
        "import torch.optim as optim\n",
        "from torch import nn\n",
        "from PIL import Image\n",
        "from torchvision import transforms\n",
        "from itertools import islice\n",
        "from torch.utils.data import Dataset, DataLoader\n",
        "from sklearn.model_selection import StratifiedKFold\n",
        "from sklearn.metrics import roc_curve, roc_auc_score"
      ],
      "execution_count": 9,
      "outputs": []
    },
    {
      "cell_type": "code",
      "metadata": {
        "id": "aaXkAOtTVtPE",
        "colab_type": "code",
        "colab": {}
      },
      "source": [
        "training_paths = []\n",
        "for root, directories, filenames in os.walk('development'):\n",
        "  for filename in filenames: \n",
        "    training_paths.append(os.path.join(root,filename))  \n",
        "\n",
        "# split the dataset in train and validation set (holdout stratified)\n",
        "# lab1 = np.ones((380,), dtype=int)\n",
        "# lab2 = np.zeros((380, ), dtype=int)\n",
        "# lab = np.concatenate((lab1, lab2))\n",
        "# skf = StratifiedKFold(n_splits=3, shuffle=True, random_state=1)\n",
        "# split = skf.split(training_paths, lab)\n",
        "# select = 0\n",
        "# train_ix, val_ix = next(islice(split, select, select + 1))\n",
        "# training_paths = np.array(training_paths)\n",
        "# train_ids = training_paths[train_ix.astype(int)]\n",
        "# valid_ids = training_paths[val_ix]\n",
        "\n",
        "# split the dataset in train and validation set (use some folder for validation)\n",
        "training_paths = np.array(training_paths)\n",
        "train_ids1 = training_paths[0:250]\n",
        "train_ids2 = training_paths[380: 630]\n",
        "valid_ids1 = training_paths[250: 380]\n",
        "valid_ids2 = training_paths[630: 760]\n",
        "train_ids = np.concatenate((train_ids1, train_ids2))\n",
        "valid_ids = np.concatenate((valid_ids1, valid_ids2))\n",
        "\n",
        "class DataGenerator(Dataset):\n",
        "\n",
        "  def __init__(self, images_path, augmentations=False):\n",
        "    self.images_path = images_path\n",
        "    self.augmentations = augmentations\n",
        "\n",
        "  def __getitem__(self, index):\n",
        "    im_path = self.images_path[index]\n",
        "    input_image = Image.open(im_path)\n",
        "    preprocess = None\n",
        "    if self.augmentations:\n",
        "      preprocess = transforms.Compose([\n",
        "        transforms.Resize(400),\n",
        "        transforms.CenterCrop(400),\n",
        "        transforms.RandomHorizontalFlip(p=0.5),\n",
        "        transforms.RandomGrayscale(p=0.1),\n",
        "        transforms.ColorJitter(brightness = 0.5, contrast=0.5, saturation=0.5, hue=0.5),\n",
        "        transforms.ToTensor(),\n",
        "        transforms.Normalize(mean=[0.485, 0.456, 0.406], std=[0.229, 0.224, 0.225]),\n",
        "      ])\n",
        "    else:\n",
        "      preprocess = transforms.Compose([\n",
        "        transforms.Resize(400),\n",
        "        transforms.CenterCrop(400),\n",
        "        transforms.ToTensor(),\n",
        "        transforms.Normalize(mean=[0.485, 0.456, 0.406], std=[0.229, 0.224, 0.225]),\n",
        "      ])\n",
        "    input_tensor = preprocess(input_image)\n",
        "    path = im_path.split(\"/\")\n",
        "    label = 0 if path[1] == \"real\" else 1\n",
        "    return input_tensor, label, im_path\n",
        "\n",
        "  def __len__(self):\n",
        "    return len(self.images_path)\n",
        "\n"
      ],
      "execution_count": 10,
      "outputs": []
    },
    {
      "cell_type": "code",
      "metadata": {
        "id": "c-S2EPvTZ8MD",
        "colab_type": "code",
        "colab": {}
      },
      "source": [
        "train_data = DataGenerator(train_ids, True)\n",
        "train_data_loader = DataLoader(train_data,\n",
        "    batch_size=16,\n",
        "    shuffle=True,\n",
        "    num_workers=4\n",
        ")\n",
        "\n",
        "valid_data = DataGenerator(valid_ids, False)\n",
        "valid_data_loader = DataLoader(valid_data,\n",
        "    batch_size=8,\n",
        "    shuffle=False,\n",
        "    num_workers=4\n",
        ")\n",
        "\n",
        "def validation_score(model, valid_data, device):\n",
        "  tot_loss = 0\n",
        "  model.eval()\n",
        "  with torch.no_grad():\n",
        "    for xb, yb, _ in valid_data:\n",
        "      \n",
        "      model.to(device)\n",
        "      xb = xb.to(device)\n",
        "      yb = yb.to(device)\n",
        "\n",
        "      pred = model(xb)\n",
        "      pred_label = torch.argmax(pred, dim=1)\n",
        "      \n",
        "      loss = loss_func(pred, yb)\n",
        "      tot_loss += loss\n",
        "      # alternative loss\n",
        "      # for p, y in zip(pred_label, yb):\n",
        "      #  if p!=y:\n",
        "      #    tot_loss += 1\n",
        "\n",
        "  return tot_loss/len(valid_ids)"
      ],
      "execution_count": 11,
      "outputs": []
    },
    {
      "cell_type": "code",
      "metadata": {
        "id": "02Rx3kxvMiQk",
        "colab_type": "code",
        "colab": {}
      },
      "source": [
        "# Model: resnet50 with a different classifier\n",
        "model = torchvision.models.resnet50(pretrained=True)\n",
        "model.fc = nn.Linear(2048, 2)"
      ],
      "execution_count": 12,
      "outputs": []
    },
    {
      "cell_type": "markdown",
      "metadata": {
        "id": "0AOIZNfmOLGL",
        "colab_type": "text"
      },
      "source": [
        "**Training**"
      ]
    },
    {
      "cell_type": "code",
      "metadata": {
        "id": "tDzfW9MVyyWz",
        "colab_type": "code",
        "colab": {
          "base_uri": "https://localhost:8080/",
          "height": 329
        },
        "outputId": "45e6c808-cf30-4aca-d6df-f14bdbe8c33b"
      },
      "source": [
        "device = torch.device('cuda') if torch.cuda.is_available() else torch.device('cpu')\n",
        "print(device)\n",
        "\n",
        "# settings\n",
        "n_epochs = 8\n",
        "lr = 0.0001\n",
        "params = [p for p in model.parameters() if p.requires_grad]\n",
        "opt = optim.Adam(params, lr=lr, weight_decay=0.1)\n",
        "loss_func = nn.CrossEntropyLoss()\n",
        "lr_scheduler = torch.optim.lr_scheduler.StepLR(opt, step_size=4, gamma=0.1)\n",
        "vd_score = None\n",
        "\n",
        "for epoch in range(n_epochs):\n",
        "  tot_loss = 0\n",
        "  model.train()\n",
        "  \n",
        "  for xb, yb, _ in train_data_loader:\n",
        "    model.to(device)\n",
        "    xb = xb.to(device)\n",
        "    yb = yb.to(device)\n",
        "\n",
        "    pred = model(xb)\n",
        "    loss = loss_func(pred, yb)\n",
        "\n",
        "    tot_loss += loss\n",
        "    if opt is not None:\n",
        "          loss.backward()\n",
        "          opt.step()\n",
        "          opt.zero_grad()\n",
        "  \n",
        "  if lr_scheduler is not None:\n",
        "    lr_scheduler.step()\n",
        "  print(f'Loss: {tot_loss / len(train_ids)}')\n",
        "  val = validation_score(model, valid_data_loader, device)\n",
        "  print(f'Val loss: {val}')\n",
        "\n",
        "  # save best weights\n",
        "  if vd_score is None or val < vd_score:\n",
        "    vd_score = val\n",
        "    torch.save(model.state_dict(), 'weights/uam_weights_softmax_best.pth')\n",
        "\n",
        "  # save weights every two epochs\n",
        "  if epoch % 2 == 1:\n",
        "    torch.save(model.state_dict(), f'weights/uam_weights_softmax{epoch}.pth')"
      ],
      "execution_count": 13,
      "outputs": [
        {
          "output_type": "stream",
          "text": [
            "cuda\n",
            "Loss: 0.021726055070757866\n",
            "Val loss: 0.0147639075294137\n",
            "Loss: 0.0034787566401064396\n",
            "Val loss: 0.006595338229089975\n",
            "Loss: 0.0024388059973716736\n",
            "Val loss: 0.009996622800827026\n",
            "Loss: 0.0035369780380278826\n",
            "Val loss: 0.010646982118487358\n",
            "Loss: 0.005149087402969599\n",
            "Val loss: 0.004087382927536964\n",
            "Loss: 0.0012290800223127007\n",
            "Val loss: 0.003794043557718396\n",
            "Loss: 0.0012018807465210557\n",
            "Val loss: 0.002362791681662202\n",
            "Loss: 0.002455664100125432\n",
            "Val loss: 0.0023576002568006516\n"
          ],
          "name": "stdout"
        }
      ]
    },
    {
      "cell_type": "code",
      "metadata": {
        "id": "4rJ7pujYSoxc",
        "colab_type": "code",
        "colab": {}
      },
      "source": [
        "# save best weights on Google Drive\n",
        "!cp -r weights/uam_weights_softmax_best.pth drive/My\\ Drive/"
      ],
      "execution_count": 8,
      "outputs": []
    },
    {
      "cell_type": "code",
      "metadata": {
        "id": "Qcdiv1glXnUq",
        "colab_type": "code",
        "colab": {
          "base_uri": "https://localhost:8080/",
          "height": 35
        },
        "outputId": "22b8aa6f-fe77-4049-e82e-e24252d773d3"
      },
      "source": [
        "# Use best weights for evaluation\n",
        "model.load_state_dict(torch.load(\"weights/uam_weights_softmax_best.pth\"))"
      ],
      "execution_count": 15,
      "outputs": [
        {
          "output_type": "execute_result",
          "data": {
            "text/plain": [
              "<All keys matched successfully>"
            ]
          },
          "metadata": {
            "tags": []
          },
          "execution_count": 15
        }
      ]
    },
    {
      "cell_type": "markdown",
      "metadata": {
        "id": "6H6JIX25OQd1",
        "colab_type": "text"
      },
      "source": [
        "**Testing**"
      ]
    },
    {
      "cell_type": "code",
      "metadata": {
        "id": "JRg5vsw6PZvz",
        "colab_type": "code",
        "colab": {
          "base_uri": "https://localhost:8080/",
          "height": 519
        },
        "outputId": "82649ec9-70d9-4534-d3f4-27bf69572a8d"
      },
      "source": [
        "evaluation_paths = []\n",
        "for root, directories, filenames in os.walk('evaluation'):\n",
        "  for filename in filenames: \n",
        "    evaluation_paths.append(os.path.join(root,filename))\n",
        "\n",
        "evaluation_data = DataGenerator(evaluation_paths, False)\n",
        "evaluation_data_loader = DataLoader(evaluation_data,\n",
        "    batch_size=8,\n",
        "    shuffle=False,\n",
        "    num_workers=4\n",
        ")\n",
        "\n",
        "tot_loss = 0\n",
        "err = 0\n",
        "model.eval()\n",
        "\n",
        "testy = []\n",
        "prob_fake = []\n",
        "results = []\n",
        "false_positive = 0\n",
        "false_negative = 0\n",
        "true_positive = 0\n",
        "true_negative = 0\n",
        "\n",
        "with torch.no_grad():\n",
        "\n",
        "  for xb, yb, pathb in evaluation_data_loader:\n",
        "    model.to(device)\n",
        "    xb = xb.to(device)\n",
        "    yb = yb.to(device)\n",
        "\n",
        "    pred = model(xb)\n",
        "    loss = loss_func(pred, yb)\n",
        "    tot_loss += loss\n",
        "    pred_label = torch.argmax(pred, dim=1)\n",
        "\n",
        "    yb = yb.cpu().numpy()\n",
        "    for p, y, p2, x, pb in zip(pred_label, yb, pred, xb, pathb):\n",
        "      score = F.softmax(p2)\n",
        "      result = {\n",
        "          'image_path': pb,\n",
        "          'true_label': y,\n",
        "          'predicted_label': p.item(),\n",
        "          'score_real': score[0].item(),\n",
        "          'score_fake': score[1].item()\n",
        "      }\n",
        "      results.append(result)\n",
        "      \n",
        "      # wrong prediction\n",
        "      if p!=y:\n",
        "        err = err + 1\n",
        "        print(f'Wrong prediction - img path: {pb}, Prediction: {score}')\n",
        "    \n",
        "        if p:\n",
        "          false_positive = false_positive + 1\n",
        "        else:\n",
        "          false_negative = false_negative + 1\n",
        "      \n",
        "      else:\n",
        "        if p:\n",
        "          true_positive = true_positive + 1\n",
        "        else:\n",
        "          true_negative = true_negative + 1\n",
        "\n",
        "      # data for ROC\n",
        "      testy.append(y)\n",
        "      prob_fake.append(score[1].cpu())\n",
        "\n",
        "  auc = roc_auc_score(testy, prob_fake)\n",
        "  print(f'AUC: {auc}')\n",
        "  fpr, tpr, _ = roc_curve(testy, prob_fake, drop_intermediate=False)\n",
        "  plt.plot(fpr, tpr, marker='.')\n",
        "  plt.xlabel('False Positive Rate')\n",
        "  plt.ylabel('True Positive Rate')\n",
        "  plt.show()\n",
        "  print(f'Wrong predictions: {err}')\n",
        "  print(f'Average loss: {tot_loss/len(evaluation_paths)}')\n",
        "  print(f'Precision: {true_positive / (true_positive + false_positive)}')\n",
        "  print(f'Recall: {true_positive / (true_positive + false_negative)}')\n",
        "\n",
        "# write results\n",
        "test_df = pd.DataFrame(results, columns=['image_path', 'true_label', 'predicted_label', \n",
        "                                         'score_real', 'score_fake'])\n",
        "test_df.to_csv('submission.csv', index=False)"
      ],
      "execution_count": 16,
      "outputs": [
        {
          "output_type": "stream",
          "text": [
            "/usr/local/lib/python3.6/dist-packages/ipykernel_launcher.py:39: UserWarning: Implicit dimension choice for softmax has been deprecated. Change the call to include dim=X as an argument.\n"
          ],
          "name": "stderr"
        },
        {
          "output_type": "stream",
          "text": [
            "Wrong prediction - img path: evaluation/fake/0045_fake/fake.011473.jpg, Prediction: tensor([0.5721, 0.4279], device='cuda:0')\n",
            "Wrong prediction - img path: evaluation/fake/0045_fake/fake.011173.jpg, Prediction: tensor([0.6791, 0.3209], device='cuda:0')\n",
            "Wrong prediction - img path: evaluation/fake/0045_fake/fake.011172.jpg, Prediction: tensor([0.5762, 0.4238], device='cuda:0')\n",
            "Wrong prediction - img path: evaluation/fake/0045_fake/fake.011499.jpg, Prediction: tensor([0.6246, 0.3754], device='cuda:0')\n",
            "Wrong prediction - img path: evaluation/fake/0041_fake/fake.009315.jpg, Prediction: tensor([0.8107, 0.1893], device='cuda:0')\n",
            "Wrong prediction - img path: evaluation/fake/0044_fake/fake.010578.jpg, Prediction: tensor([0.6537, 0.3463], device='cuda:0')\n",
            "AUC: 0.9963636363636363\n"
          ],
          "name": "stdout"
        },
        {
          "output_type": "display_data",
          "data": {
            "image/png": "[encoded data removed]",
            "text/plain": [
              "<Figure size 432x288 with 1 Axes>"
            ]
          },
          "metadata": {
            "tags": [],
            "needs_background": "light"
          }
        },
        {
          "output_type": "stream",
          "text": [
            "Wrong predictions: 6\n",
            "Average loss: 0.01519872434437275\n",
            "Precision: 1.0\n",
            "Recall: 0.94\n"
          ],
          "name": "stdout"
        }
      ]
    }
  ]
}